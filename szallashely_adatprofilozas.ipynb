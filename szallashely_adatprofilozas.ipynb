{
    "metadata": {
        "kernelspec": {
            "name": "SQL",
            "display_name": "SQL",
            "language": "sql"
        },
        "language_info": {
            "name": "sql",
            "version": ""
        }
    },
    "nbformat_minor": 2,
    "nbformat": 4,
    "cells": [
        {
            "cell_type": "markdown",
            "source": [
                "## **A \"szallashely\" adatbázis _Szallashely_ táblájának adatprofilozása**"
            ],
            "metadata": {
                "azdata_cell_guid": "eb05891b-98df-42d2-8f76-2fd49f4fa03d"
            },
            "attachments": {}
        },
        {
            "cell_type": "markdown",
            "source": [
                "### A _CSILLAGOK\\_SZAMA_ oszlop adatprofilozási lekérdezése\n",
                "\n",
                "1\\. A csillagok számának legkisebb értéke hotelek és panziók esetén\n",
                "\n",
                "2\\. A csillagok számának legnagyobb értéke <span style=\"color: var(--vscode-foreground);\">hotelek és panziók esetén</span>\n",
                "\n",
                "<span style=\"color: var(--vscode-foreground);\">3. A&nbsp;</span>  csillagok számának <span style=\"color: var(--vscode-foreground);\">átlagos értéke&nbsp;</span> <span style=\"color: var(--vscode-foreground);\">hotelek és panziók esetén</span>"
            ],
            "metadata": {
                "azdata_cell_guid": "8c9e407e-a22a-404b-8f5c-af57698042ba"
            },
            "attachments": {}
        },
        {
            "cell_type": "code",
            "source": [
                "SELECT MIN(CSILLAGOK_SZAMA) AS 'csillagok minimum száma',\r\n",
                "       MAX(CSILLAGOK_SZAMA) AS 'csillagok maximum száma',\r\n",
                "       AVG(CSILLAGOK_SZAMA) AS 'csillagok átlagos száma'\r\n",
                "FROM Szallashely\r\n",
                "WHERE TIPUS IN ('panzió', 'Hotel')"
            ],
            "metadata": {
                "azdata_cell_guid": "5660a15e-3acb-4fe8-9f66-f03696262bb0",
                "language": "sql",
                "tags": []
            },
            "outputs": [
                {
                    "output_type": "display_data",
                    "data": {
                        "text/html": "(1 row affected)"
                    },
                    "metadata": {}
                },
                {
                    "output_type": "display_data",
                    "data": {
                        "text/html": "Total execution time: 00:00:00.010"
                    },
                    "metadata": {}
                },
                {
                    "output_type": "execute_result",
                    "metadata": {},
                    "execution_count": 3,
                    "data": {
                        "application/vnd.dataresource+json": {
                            "schema": {
                                "fields": [
                                    {
                                        "name": "csillagok minimum száma"
                                    },
                                    {
                                        "name": "csillagok maximum száma"
                                    },
                                    {
                                        "name": "csillagok átlagos száma"
                                    }
                                ]
                            },
                            "data": [
                                {
                                    "csillagok minimum száma": "3",
                                    "csillagok maximum száma": "4",
                                    "csillagok átlagos száma": "3"
                                }
                            ]
                        },
                        "text/html": [
                            "<table>",
                            "<tr><th>csillagok minimum száma</th><th>csillagok maximum száma</th><th>csillagok átlagos száma</th></tr>",
                            "<tr><td>3</td><td>4</td><td>3</td></tr>",
                            "</table>"
                        ]
                    }
                }
            ],
            "execution_count": 3
        },
        {
            "cell_type": "markdown",
            "source": [
                "![](data:image/png;base64,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)"
            ],
            "metadata": {
                "language": "sql",
                "azdata_cell_guid": "19679a4e-f1af-4d02-946e-c73e67aa9e41"
            },
            "attachments": {}
        },
        {
            "cell_type": "markdown",
            "source": [
                ""
            ],
            "metadata": {
                "language": "sql",
                "azdata_cell_guid": "c39b52a4-ad93-4c9d-ba41-cd1fdc2e75ca"
            }
        }
    ]
}