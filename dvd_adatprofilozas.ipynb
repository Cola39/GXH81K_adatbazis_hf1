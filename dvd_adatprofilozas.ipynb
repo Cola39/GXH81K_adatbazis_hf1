{
    "metadata": {
        "kernelspec": {
            "name": "SQL",
            "display_name": "SQL",
            "language": "sql"
        },
        "language_info": {
            "name": "sql",
            "version": ""
        }
    },
    "nbformat_minor": 2,
    "nbformat": 4,
    "cells": [
        {
            "cell_type": "markdown",
            "source": [
                "## **A \"szallashely\" adatbázis _Szallashely_ táblájának adatprofilozása**"
            ],
            "metadata": {
                "azdata_cell_guid": "eb05891b-98df-42d2-8f76-2fd49f4fa03d"
            },
            "attachments": {}
        },
        {
            "cell_type": "markdown",
            "source": [
                "### A _CSILLAGOK\\_SZAMA_ oszlop adatprofilozási lekérdezése\n",
                "\n",
                "1\\. A csillagok számának legkisebb értéke hotelek és panziók esetén\n",
                "\n",
                "2\\. A csillagok számának legnagyobb értéke <span style=\"color: var(--vscode-foreground);\">hotelek és panziók esetén</span>\n",
                "\n",
                "<span style=\"color: var(--vscode-foreground);\">3. A&nbsp;</span>  csillagok számának <span style=\"color: var(--vscode-foreground);\">átlagos értéke&nbsp;</span> <span style=\"color: var(--vscode-foreground);\">hotelek és panziók esetén</span>"
            ],
            "metadata": {
                "azdata_cell_guid": "8c9e407e-a22a-404b-8f5c-af57698042ba"
            },
            "attachments": {}
        },
        {
            "cell_type": "code",
            "source": [
                "SELECT MIN(CSILLAGOK_SZAMA) AS 'csillagok minimum száma',\r\n",
                "       MAX(CSILLAGOK_SZAMA) AS 'csillagok maximum száma',\r\n",
                "       AVG(CSILLAGOK_SZAMA) AS 'csillagok átlagos száma'\r\n",
                "FROM Szallashely\r\n",
                "WHERE TIPUS IN ('panzió', 'Hotel')"
            ],
            "metadata": {
                "azdata_cell_guid": "5660a15e-3acb-4fe8-9f66-f03696262bb0",
                "language": "sql"
            },
            "outputs": [
                {
                    "output_type": "display_data",
                    "data": {
                        "text/html": "(1 row affected)"
                    },
                    "metadata": {}
                },
                {
                    "output_type": "display_data",
                    "data": {
                        "text/html": "Total execution time: 00:00:00.040"
                    },
                    "metadata": {}
                },
                {
                    "output_type": "execute_result",
                    "metadata": {
                        "azdata_chartOptions": {
                            "type": "bar",
                            "dataDirection": "horizontal",
                            "columnsAsLabels": true,
                            "labelFirstColumn": false,
                            "legendPosition": "top"
                        }
                    },
                    "execution_count": 5,
                    "data": {
                        "application/vnd.dataresource+json": {
                            "schema": {
                                "fields": [
                                    {
                                        "name": "csillagok minimum száma"
                                    },
                                    {
                                        "name": "csillagok maximum száma"
                                    },
                                    {
                                        "name": "csillagok átlagos száma"
                                    }
                                ]
                            },
                            "data": [
                                {
                                    "csillagok minimum száma": "3",
                                    "csillagok maximum száma": "4",
                                    "csillagok átlagos száma": "3"
                                }
                            ]
                        },
                        "text/html": [
                            "<table>",
                            "<tr><th>csillagok minimum száma</th><th>csillagok maximum száma</th><th>csillagok átlagos száma</th></tr>",
                            "<tr><td>3</td><td>4</td><td>3</td></tr>",
                            "</table>"
                        ]
                    }
                }
            ],
            "execution_count": 5
        }
    ]
}